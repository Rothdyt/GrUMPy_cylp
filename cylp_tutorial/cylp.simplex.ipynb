{
 "cells": [
  {
   "cell_type": "code",
   "execution_count": 4,
   "metadata": {
    "ExecuteTime": {
     "end_time": "2020-04-15T02:56:22.030982Z",
     "start_time": "2020-04-15T02:56:22.005823Z"
    }
   },
   "outputs": [],
   "source": [
    "from cylp.cy.CyClpSimplex import CyClpSimplex\n",
    "from cylp.py.modeling.CyLPModel import CyLPArray\n",
    "import numpy as np\n",
    "s = CyClpSimplex()\n",
    "x = s.addVariable('x', 3)\n",
    "y = s.addVariable('y', 2)\n",
    "\n",
    "# Create coefficients and bounds\n",
    "A = np.matrix([[1., 2., 0],[1., 0, 1.]])\n",
    "B = np.matrix([[1., 0, 0], [0, 0, 1.]])\n",
    "D = np.matrix([[1., 2.],[0, 1]])\n",
    "a = CyLPArray([5, 2.5])\n",
    "b = CyLPArray([4.2, 3])\n",
    "x_u= CyLPArray([2., 3.5])\n",
    "\n",
    "# Add constraints\n",
    "s += A * x <= a\n",
    "s += 2 <= B * x + D * y <= b\n",
    "s += y >= 0\n",
    "s += 1.1 <= x[1:3] <= x_u\n",
    "\n",
    "# Set the objective function\n",
    "c = CyLPArray([1., -2., 3.])\n",
    "s.objective = c * x + 2 * y.sum()\n",
    "s.maxNumIteration = 1"
   ]
  },
  {
   "cell_type": "code",
   "execution_count": 5,
   "metadata": {
    "ExecuteTime": {
     "end_time": "2020-04-15T02:56:22.911472Z",
     "start_time": "2020-04-15T02:56:22.906314Z"
    }
   },
   "outputs": [
    {
     "data": {
      "text/plain": [
       "'stopped on iterations or time'"
      ]
     },
     "execution_count": 5,
     "metadata": {},
     "output_type": "execute_result"
    }
   ],
   "source": [
    "s.initialDualSolve()"
   ]
  },
  {
   "cell_type": "code",
   "execution_count": 6,
   "metadata": {
    "ExecuteTime": {
     "end_time": "2020-04-15T02:56:24.078207Z",
     "start_time": "2020-04-15T02:56:24.072988Z"
    }
   },
   "outputs": [
    {
     "data": {
      "text/plain": [
       "1"
      ]
     },
     "execution_count": 6,
     "metadata": {},
     "output_type": "execute_result"
    }
   ],
   "source": [
    "s.maxNumIteration"
   ]
  },
  {
   "cell_type": "code",
   "execution_count": null,
   "metadata": {},
   "outputs": [],
   "source": [
    "s.i"
   ]
  }
 ],
 "metadata": {
  "kernelspec": {
   "display_name": "cuppy",
   "language": "python",
   "name": "cuppy"
  },
  "language_info": {
   "codemirror_mode": {
    "name": "ipython",
    "version": 3
   },
   "file_extension": ".py",
   "mimetype": "text/x-python",
   "name": "python",
   "nbconvert_exporter": "python",
   "pygments_lexer": "ipython3",
   "version": "3.7.7"
  },
  "toc": {
   "colors": {
    "hover_highlight": "#DAA520",
    "navigate_num": "#000000",
    "navigate_text": "#333333",
    "running_highlight": "#FF0000",
    "selected_highlight": "#FFD700",
    "sidebar_border": "#EEEEEE",
    "wrapper_background": "#FFFFFF"
   },
   "moveMenuLeft": true,
   "nav_menu": {
    "height": "12px",
    "width": "252px"
   },
   "navigate_menu": true,
   "number_sections": true,
   "sideBar": true,
   "threshold": 4,
   "toc_cell": false,
   "toc_section_display": "block",
   "toc_window_display": false,
   "widenNotebook": false
  }
 },
 "nbformat": 4,
 "nbformat_minor": 4
}
