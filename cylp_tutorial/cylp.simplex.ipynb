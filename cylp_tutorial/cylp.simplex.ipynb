{
 "cells": [
  {
   "cell_type": "code",
   "execution_count": 3,
   "metadata": {
    "ExecuteTime": {
     "end_time": "2020-04-15T02:56:22.030982Z",
     "start_time": "2020-04-15T02:56:22.005823Z"
    }
   },
   "outputs": [],
   "source": [
    "from cylp.cy.CyClpSimplex import CyClpSimplex\n",
    "from cylp.py.modeling.CyLPModel import CyLPArray\n",
    "import numpy as np\n",
    "s = CyClpSimplex()\n",
    "x = s.addVariable('x', 2)\n",
    "# Create coefficients and bounds\n",
    "A = np.matrix([[-1, 1]])\n",
    "a = CyLPArray([1])\n",
    "# Add constraints\n",
    "s += A * x <= a\n",
    "s += 2 <= B * x + D * y <= b\n",
    "s += y >= 0\n",
    "s += 1.1 <= x[1:3] <= x_u\n",
    "\n",
    "# Set the objective function\n",
    "c = CyLPArray([1., -2., 3.])\n",
    "s.objective = c * x + 2 * y.sum()\n",
    "s.maxNumIteration = 1"
   ]
  },
  {
   "cell_type": "markdown",
   "metadata": {},
   "source": [
    "## cylp and pulp translation\n",
    "\n",
    "`LpStatus[prob.status]` : `s.getStatusString()`\n",
    ": `dict([(i, s.primalVariableSolution['x'][i]) for i in range(len(OBJ))])`\n"
   ]
  },
  {
   "cell_type": "code",
   "execution_count": 5,
   "metadata": {
    "ExecuteTime": {
     "end_time": "2020-04-15T02:56:22.911472Z",
     "start_time": "2020-04-15T02:56:22.906314Z"
    }
   },
   "outputs": [
    {
     "output_type": "execute_result",
     "data": {
      "text/plain": "'stopped on iterations or time'"
     },
     "metadata": {},
     "execution_count": 5
    }
   ],
   "source": [
    "s.initialDualSolve()"
   ]
  },
  {
   "cell_type": "code",
   "execution_count": 6,
   "metadata": {
    "ExecuteTime": {
     "end_time": "2020-04-15T02:56:24.078207Z",
     "start_time": "2020-04-15T02:56:24.072988Z"
    }
   },
   "outputs": [
    {
     "output_type": "execute_result",
     "data": {
      "text/plain": "1"
     },
     "metadata": {},
     "execution_count": 6
    }
   ],
   "source": [
    "s.maxNumIteration"
   ]
  },
  {
   "cell_type": "code",
   "execution_count": 6,
   "metadata": {},
   "outputs": [],
   "source": [
    "from coinor.grumpy import GenerateRandomMIP\n",
    "import numpy as np\n",
    "from cylp.cy.CyClpSimplex import CyClpSimplex\n",
    "from cylp.py.modeling.CyLPModel import CyLPModel, CyLPArray\n",
    "CONSTRAINTS, VARIABLES, OBJ, MAT, RHS = GenerateRandomMIP(numVars=2, numCons=5, density=0.1,rand_seed=1234)\n",
    "model = CyLPModel()\n",
    "x = model.addVariable('x', dim=len(OBJ))\n",
    "cyOBJ = CyLPArray([-val for val in OBJ.values()])\n",
    "cyMAT = np.matrix([MAT[v] for v in VARIABLES]).T\n",
    "cyRHS = CyLPArray(RHS)\n",
    "model += cyMAT * x <= RHS\n",
    "model += 0 <= x <= 1\n",
    "model.objective = cyOBJ * x\n",
    "s = CyClpSimplex(model)\n",
    "# s.primal()\n"
   ]
  },
  {
   "cell_type": "code",
   "execution_count": 7,
   "metadata": {},
   "outputs": [
    {
     "output_type": "execute_result",
     "data": {
      "text/plain": "'optimal'"
     },
     "metadata": {},
     "execution_count": 7
    }
   ],
   "source": [
    "s.primal()"
   ]
  },
  {
   "cell_type": "code",
   "execution_count": 8,
   "metadata": {},
   "outputs": [
    {
     "output_type": "execute_result",
     "data": {
      "text/plain": "(0, 'optimal')"
     },
     "metadata": {},
     "execution_count": 8
    }
   ],
   "source": [
    "s.getStatusCode(), s.getStatusString()"
   ]
  },
  {
   "cell_type": "code",
   "execution_count": 14,
   "metadata": {},
   "outputs": [
    {
     "output_type": "execute_result",
     "data": {
      "text/plain": "True"
     },
     "metadata": {},
     "execution_count": 14
    }
   ],
   "source": [
    "s.getStatusString() == \"dual infeasible\""
   ]
  },
  {
   "cell_type": "code",
   "execution_count": 17,
   "metadata": {},
   "outputs": [
    {
     "output_type": "execute_result",
     "data": {
      "text/plain": "array([0.1, 1. ])"
     },
     "metadata": {},
     "execution_count": 17
    }
   ],
   "source": [
    "s.primalVariableSolution['x']"
   ]
  },
  {
   "cell_type": "code",
   "execution_count": 18,
   "metadata": {},
   "outputs": [
    {
     "output_type": "execute_result",
     "data": {
      "text/plain": "{0: 0.1, 1: 0.9999999999999999}"
     },
     "metadata": {},
     "execution_count": 18
    }
   ],
   "source": []
  },
  {
   "cell_type": "code",
   "execution_count": 2,
   "metadata": {},
   "outputs": [
    {
     "output_type": "execute_result",
     "data": {
      "text/plain": "(array([0., 0., 0., 0., 0., 0., 0., 0., 0., 0.]),\n array([1., 1., 1., 1., 1., 1., 1., 1., 1., 1.]))"
     },
     "metadata": {},
     "execution_count": 2
    }
   ],
   "source": [
    "s.variablesLower, s.variablesUpper"
   ]
  },
  {
   "cell_type": "code",
   "execution_count": 5,
   "metadata": {},
   "outputs": [
    {
     "output_type": "execute_result",
     "data": {
      "text/plain": "'dual infeasible'"
     },
     "metadata": {},
     "execution_count": 5
    }
   ],
   "source": [
    "s.dual()"
   ]
  },
  {
   "cell_type": "code",
   "execution_count": 27,
   "metadata": {},
   "outputs": [
    {
     "output_type": "stream",
     "name": "stdout",
     "text": "optimal\noptimal\n5.0\n{'x': array([2., 3.])}\n"
    }
   ],
   "source": [
    "from cylp.cy.CyClpSimplex import CyClpSimplex\n",
    "from cylp.py.modeling.CyLPModel import CyLPArray\n",
    "import numpy as np\n",
    "s = CyClpSimplex()\n",
    "x = s.addVariable('x', 2)\n",
    "\n",
    "# Create coefficients and bounds\n",
    "A = np.matrix([[1,1],[0,1]])\n",
    "a = CyLPArray([5,3])\n",
    "\n",
    "\n",
    "# Add constraints\n",
    "s += A * x >= a\n",
    "\n",
    "\n",
    "# Set the objective function\n",
    "c = CyLPArray([1,1])\n",
    "s.objective = c*x\n",
    "print(s.initialDualSolve())\n",
    "print(s.primal())\n",
    "print(s.objectiveValue)\n",
    "print(s.primalVariableSolution)"
   ]
  },
  {
   "cell_type": "code",
   "execution_count": null,
   "metadata": {},
   "outputs": [],
   "source": []
  }
 ],
 "metadata": {
  "kernelspec": {
   "display_name": "Python 3",
   "language": "python",
   "name": "python3"
  },
  "language_info": {
   "codemirror_mode": {
    "name": "ipython",
    "version": 3
   },
   "file_extension": ".py",
   "mimetype": "text/x-python",
   "name": "python",
   "nbconvert_exporter": "python",
   "pygments_lexer": "ipython3",
   "version": "3.7.6-final"
  },
  "toc": {
   "colors": {
    "hover_highlight": "#DAA520",
    "navigate_num": "#000000",
    "navigate_text": "#333333",
    "running_highlight": "#FF0000",
    "selected_highlight": "#FFD700",
    "sidebar_border": "#EEEEEE",
    "wrapper_background": "#FFFFFF"
   },
   "moveMenuLeft": true,
   "nav_menu": {
    "height": "12px",
    "width": "252px"
   },
   "navigate_menu": true,
   "number_sections": true,
   "sideBar": true,
   "threshold": 4,
   "toc_cell": false,
   "toc_section_display": "block",
   "toc_window_display": false,
   "widenNotebook": false
  }
 },
 "nbformat": 4,
 "nbformat_minor": 4
}