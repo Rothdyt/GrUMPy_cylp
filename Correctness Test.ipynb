{
 "cells": [
  {
   "cell_type": "code",
   "execution_count": 1,
   "metadata": {},
   "outputs": [],
   "source": [
    "from coinor.grumpy import GenerateRandomMIP\n",
    "import coinor.grumpy\n",
    "from coinor.grumpy import BBTree\n",
    "from coinor.grumpy import MOST_FRACTIONAL, FIXED_BRANCHING, PSEUDOCOST_BRANCHING\n",
    "from coinor.grumpy import DEPTH_FIRST, BEST_FIRST, BEST_ESTIMATE\n",
    "from coinor.grumpy.BBTree import INFINITY\n",
    "import time\n",
    "import numpy as np\n",
    "import random\n",
    "\n",
    "from src.cylpBranchAndBound import RELIABILITY_BRANCHING, HYBRID\n",
    "from src.cylpBranchAndBound import BranchAndBound\n",
    "\n",
    "from pulp import LpVariable, lpSum, LpProblem, LpMaximize, LpConstraint,LpBinary\n",
    "from pulp import LpStatus, value"
   ]
  },
  {
   "cell_type": "code",
   "execution_count": 2,
   "metadata": {},
   "outputs": [],
   "source": [
    "%%capture\n",
    "numVars = 60\n",
    "numCons = 30\n",
    "random.seed(256)\n",
    "error = 0\n",
    "# branch= [MOST_FRACTIONAL, FIXED_BRANCHING, PSEUDOCOST_BRANCHING,RELIABILITY_BRANCHING,HYBRID]\n",
    "branch= [RELIABILITY_BRANCHING,HYBRID]\n",
    "search = [DEPTH_FIRST, BEST_FIRST, BEST_ESTIMATE]\n",
    "puLB = []\n",
    "cyLB = []\n",
    "\n",
    "for i in range(5):\n",
    "    CONSTRAINTS, VARIABLES, OBJ, MAT, RHS = GenerateRandomMIP(numVars=numVars , numCons=numCons,rand_seed= random.randint(1, 100))\n",
    "    for bs in branch:\n",
    "        for ss in search:\n",
    "            #print('Itr %d Testing %s + %s'%(i,bs,ss))\n",
    "            var   = LpVariable.dicts(\"\", VARIABLES, 0, 1,LpBinary)\n",
    "            numCons = len(CONSTRAINTS)\n",
    "            numVars = len(VARIABLES)\n",
    "            prob = LpProblem(\"relax\", LpMaximize)\n",
    "            prob += lpSum([OBJ[i]*var[i] for i in VARIABLES]), \"Objective\"\n",
    "            for j in range(numCons):\n",
    "                prob += (lpSum([MAT[i][j]*var[i] for i in VARIABLES])<=RHS[j],\\\n",
    "                             CONSTRAINTS[j])\n",
    "            prob.solve()\n",
    "            LB = value(prob.objective)\n",
    "            puLB.append(LB)\n",
    "            \n",
    "            T2 = BBTree()\n",
    "            opt2, LB2 = BranchAndBound(T2, CONSTRAINTS, VARIABLES, OBJ, MAT, RHS,branch_strategy = bs,search_strategy = ss)\n",
    "            cyLB.append(LB2)\n",
    "            \n",
    "            if abs(LB- LB2)>1e-6:\n",
    "                error += 1\n",
    "                #print('%s + %s has inconsistence: %g,%g'%(bs,ss,LB,LB2))"
   ]
  },
  {
   "cell_type": "code",
   "execution_count": 3,
   "metadata": {},
   "outputs": [
    {
     "name": "stdout",
     "output_type": "stream",
     "text": [
      "0\n",
      "[45.0, 45.0, 45.0, 45.0, 45.0, 45.0, 40.0, 40.0, 40.0, 40.0, 40.0, 40.0, 44.0, 44.0, 44.0, 44.0, 44.0, 44.0]\n",
      "[45.0, 45.0, 45.0, 45.0, 45.0, 45.0, 40.0, 40.0, 40.0, 40.0, 40.0, 40.0, 44.0, 44.0, 44.0, 44.0, 44.0, 44.0]\n"
     ]
    }
   ],
   "source": [
    "print(error)\n",
    "print(puLB)\n",
    "print(cyLB)"
   ]
  }
 ],
 "metadata": {
  "kernelspec": {
   "display_name": "Python 3",
   "language": "python",
   "name": "python3"
  },
  "language_info": {
   "codemirror_mode": {
    "name": "ipython",
    "version": 3
   },
   "file_extension": ".py",
   "mimetype": "text/x-python",
   "name": "python",
   "nbconvert_exporter": "python",
   "pygments_lexer": "ipython3",
   "version": "3.7.6"
  }
 },
 "nbformat": 4,
 "nbformat_minor": 4
}
